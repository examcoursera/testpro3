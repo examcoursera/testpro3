{
 "cells": [
  {
   "cell_type": "markdown",
   "metadata": {},
   "source": [
    "<p style=\"text-align:center\">\n",
    "    <a href=\"https://skills.network/?utm_medium=Exinfluencer&utm_source=Exinfluencer&utm_content=000026UJ&utm_term=10006555&utm_id=NA-SkillsNetwork-Channel-SkillsNetworkCoursesIBMDeveloperSkillsNetworkPY0221ENSkillsNetwork23455645-2022-01-01\" target=\"_blank\">\n",
    "    <img src=\"https://cf-courses-data.s3.us.cloud-object-storage.appdomain.cloud/assets/logos/SN_web_lightmode.png\" width=\"200\" alt=\"Skills Network Logo\"  />\n",
    "    </a>\n",
    "</p>\n"
   ]
  },
  {
   "cell_type": "markdown",
   "metadata": {},
   "source": [
    "# Peer Review Assignment - Data Engineer - Extract API Data\n"
   ]
  },
  {
   "cell_type": "markdown",
   "metadata": {},
   "source": [
    "Estimated time needed: **20** minutes\n"
   ]
  },
  {
   "cell_type": "markdown",
   "metadata": {},
   "source": [
    "## Objectives\n",
    "\n",
    "In this part you will:\n",
    "\n",
    "*   Collect exchange rate data using an API\n",
    "*   Store the data as a CSV\n"
   ]
  },
  {
   "cell_type": "markdown",
   "metadata": {},
   "source": [
    "For this lab, we are going to be using Python and several Python libraries. Some of these libraries might be installed in your lab environment or in SN Labs. Others may need to be installed by you. The cells below will install these libraries when executed.\n"
   ]
  },
  {
   "cell_type": "code",
   "execution_count": 2,
   "metadata": {},
   "outputs": [],
   "source": [
    "#!mamba install pandas==1.3.3 -y\n",
    "#!mamba install requests==2.26.0 -y"
   ]
  },
  {
   "cell_type": "markdown",
   "metadata": {},
   "source": [
    "## Imports\n",
    "\n",
    "Import any additional libraries you may need here.\n"
   ]
  },
  {
   "cell_type": "code",
   "execution_count": 3,
   "metadata": {},
   "outputs": [],
   "source": [
    "import requests\n",
    "import pandas as pd"
   ]
  },
  {
   "cell_type": "markdown",
   "metadata": {},
   "source": [
    "## Extract Data Using an API\n"
   ]
  },
  {
   "cell_type": "markdown",
   "metadata": {},
   "source": [
    "Using ExchangeRate-API we will extract currency exchange rate data. Use the below steps to get the access key and to get the data.\n",
    "\n",
    "1.  Open the url : [https://exchangeratesapi.io/](https://exchangeratesapi.io/?utm_medium=Exinfluencer&utm_source=Exinfluencer&utm_content=000026UJ&utm_term=10006555&utm_id=NA-SkillsNetwork-Channel-SkillsNetworkCoursesIBMDeveloperSkillsNetworkPY0221ENSkillsNetwork23455645-2022-01-01) and click on **Get Free API Key**.\n",
    "2.  Subscribe for Free plan and Sign-in with the Google Account.\n",
    "3.  Once the account is created you will be redirected to [https://apilayer.com](https://apilayer.com/?utm_medium=Exinfluencer&utm_source=Exinfluencer&utm_content=000026UJ&utm_term=10006555&utm_id=NA-SkillsNetwork-Channel-SkillsNetworkCoursesIBMDeveloperSkillsNetworkPY0221ENSkillsNetwork23455645-2022-01-01) website.\n",
    "4.  Now, click on the **user icon** and click **Account** as shown below:\n",
    "\n",
    "<img src=\"https://cf-courses-data.s3.us.cloud-object-storage.appdomain.cloud/IBMDeveloperSkillsNetwork-PY0221EN-SkillsNetwork/labs/module%206/Final%20Assignment/Images/account.png\"/>\n",
    "\n",
    "3.  Scroll down and you will get the API Key section. Copy the API key and use in the url in Question 1.\n"
   ]
  },
  {
   "cell_type": "markdown",
   "metadata": {},
   "source": [
    "### Call the API\n",
    "\n",
    "<b> Question 1</b> Using the `requests` library call the endpoint given above and save the text, remember the first few characters of the output:\n"
   ]
  },
  {
   "cell_type": "code",
   "execution_count": 4,
   "metadata": {},
   "outputs": [
    {
     "data": {
      "text/plain": [
       "{'success': True,\n",
       " 'timestamp': 1668050854,\n",
       " 'base': 'EUR',\n",
       " 'date': '2022-11-10',\n",
       " 'rates': {'AED': 3.681222,\n",
       "  'AFN': 88.538902,\n",
       "  'ALL': 116.449925,\n",
       "  'AMD': 399.010488,\n",
       "  'ANG': 1.794258,\n",
       "  'AOA': 487.107889,\n",
       "  'ARS': 160.397601,\n",
       "  'AUD': 1.559267,\n",
       "  'AWG': 1.794251,\n",
       "  'AZN': 1.706483,\n",
       "  'BAM': 1.953221,\n",
       "  'BBD': 2.00475,\n",
       "  'BDT': 101.920215,\n",
       "  'BGN': 1.953221,\n",
       "  'BHD': 0.376901,\n",
       "  'BIF': 2066.605436,\n",
       "  'BMD': 1.002375,\n",
       "  'BND': 1.404,\n",
       "  'BOB': 6.8594,\n",
       "  'BRL': 5.159801,\n",
       "  'BSD': 1.002375,\n",
       "  'BTC': 6.1344711e-05,\n",
       "  'BTN': 81.459216,\n",
       "  'BWP': 13.253906,\n",
       "  'BYN': 2.545803,\n",
       "  'BYR': 19646.55,\n",
       "  'BZD': 2.001362,\n",
       "  'CAD': 1.356649,\n",
       "  'CDF': 2052.260498,\n",
       "  'CHF': 0.986111,\n",
       "  'CLF': 0.032949,\n",
       "  'CLP': 907.318404,\n",
       "  'CNY': 7.258566,\n",
       "  'COP': 4918.40534,\n",
       "  'CRC': 616.424795,\n",
       "  'CUC': 1.002375,\n",
       "  'CUP': 26.562938,\n",
       "  'CVE': 110.122884,\n",
       "  'CZK': 24.273972,\n",
       "  'DJF': 178.19287,\n",
       "  'DKK': 7.428408,\n",
       "  'DOP': 54.431674,\n",
       "  'DZD': 140.96283,\n",
       "  'EGP': 24.424919,\n",
       "  'ERN': 15.035625,\n",
       "  'ETB': 53.124516,\n",
       "  'EUR': 1,\n",
       "  'FJD': 2.28433,\n",
       "  'FKP': 0.879753,\n",
       "  'GBP': 0.879446,\n",
       "  'GEL': 2.731144,\n",
       "  'GGP': 0.879753,\n",
       "  'GHS': 14.526105,\n",
       "  'GIP': 0.879753,\n",
       "  'GMD': 61.243853,\n",
       "  'GNF': 8629.193444,\n",
       "  'GTQ': 7.785268,\n",
       "  'GYD': 207.352992,\n",
       "  'HKD': 7.868498,\n",
       "  'HNL': 24.731611,\n",
       "  'HRK': 7.528291,\n",
       "  'HTG': 129.211069,\n",
       "  'HUF': 401.950667,\n",
       "  'IDR': 15693.06287,\n",
       "  'ILS': 3.562295,\n",
       "  'IMP': 0.879753,\n",
       "  'INR': 81.459216,\n",
       "  'IQD': 1462.774862,\n",
       "  'IRR': 42650.539051,\n",
       "  'ISK': 146.698255,\n",
       "  'JEP': 0.879753,\n",
       "  'JMD': 152.553037,\n",
       "  'JOD': 0.710628,\n",
       "  'JPY': 146.515103,\n",
       "  'KES': 122.032751,\n",
       "  'KGS': 84.348499,\n",
       "  'KHR': 4153.284352,\n",
       "  'KMF': 491.311392,\n",
       "  'KPW': 902.105414,\n",
       "  'KRW': 1368.345037,\n",
       "  'KWD': 0.310015,\n",
       "  'KYD': 0.821919,\n",
       "  'KZT': 467.679711,\n",
       "  'LAK': 16849.244875,\n",
       "  'LBP': 1511.081728,\n",
       "  'LKR': 368.369034,\n",
       "  'LRD': 154.141966,\n",
       "  'LSL': 17.764786,\n",
       "  'LTL': 2.959753,\n",
       "  'LVL': 0.606327,\n",
       "  'LYD': 4.995747,\n",
       "  'MAD': 10.908085,\n",
       "  'MDL': 19.179768,\n",
       "  'MGA': 4304.511287,\n",
       "  'MKD': 61.396406,\n",
       "  'MMK': 2086.307833,\n",
       "  'MNT': 3414.871634,\n",
       "  'MOP': 8.103996,\n",
       "  'MRO': 357.847703,\n",
       "  'MUR': 43.863521,\n",
       "  'MVR': 15.28664,\n",
       "  'MWK': 1026.330634,\n",
       "  'MXN': 19.597659,\n",
       "  'MYR': 4.715644,\n",
       "  'MZN': 64.028907,\n",
       "  'NAD': 17.764786,\n",
       "  'NGN': 441.332521,\n",
       "  'NIO': 36.08258,\n",
       "  'NOK': 10.40084,\n",
       "  'NPR': 130.39584,\n",
       "  'NZD': 1.705299,\n",
       "  'OMR': 0.38591,\n",
       "  'PAB': 1.002375,\n",
       "  'PEN': 3.918129,\n",
       "  'PGK': 3.517108,\n",
       "  'PHP': 58.115144,\n",
       "  'PKR': 222.186917,\n",
       "  'PLN': 4.697332,\n",
       "  'PYG': 7175.68303,\n",
       "  'QAR': 3.648505,\n",
       "  'RON': 4.891164,\n",
       "  'RSD': 117.102592,\n",
       "  'RUB': 61.569302,\n",
       "  'RWF': 1063.67192,\n",
       "  'SAR': 3.759137,\n",
       "  'SBD': 8.249723,\n",
       "  'SCR': 14.506104,\n",
       "  'SDG': 569.824629,\n",
       "  'SEK': 10.926825,\n",
       "  'SGD': 1.404,\n",
       "  'SHP': 0.879753,\n",
       "  'SLE': 17.857099,\n",
       "  'SLL': 17857.09856,\n",
       "  'SOS': 569.86021,\n",
       "  'SRD': 29.91889,\n",
       "  'STD': 20747.138713,\n",
       "  'SVC': 8.771004,\n",
       "  'SYP': 2518.522492,\n",
       "  'SZL': 17.764786,\n",
       "  'THB': 36.861605,\n",
       "  'TJS': 10.071893,\n",
       "  'TMT': 3.506564,\n",
       "  'TND': 3.205951,\n",
       "  'TOP': 2.389224,\n",
       "  'TRY': 18.640471,\n",
       "  'TTD': 6.758134,\n",
       "  'TWD': 31.889951,\n",
       "  'TZS': 2337.727607,\n",
       "  'UAH': 37.018758,\n",
       "  'UGX': 3783.60957,\n",
       "  'USD': 1.002375,\n",
       "  'UYU': 40.133238,\n",
       "  'UZS': 11197.655173,\n",
       "  'VEF': 883401.203957,\n",
       "  'VND': 24841.669005,\n",
       "  'VUV': 121.844253,\n",
       "  'WST': 2.797097,\n",
       "  'XAF': 655.081856,\n",
       "  'XAG': 0.047405,\n",
       "  'XAU': 0.000586,\n",
       "  'XCD': 2.707666,\n",
       "  'XDR': 0.778047,\n",
       "  'XOF': 655.081856,\n",
       "  'XPF': 119.172536,\n",
       "  'YER': 250.835435,\n",
       "  'ZAR': 17.818918,\n",
       "  'ZMK': 9022.577511,\n",
       "  'ZMW': 16.363904,\n",
       "  'ZWL': 322.764341}}"
      ]
     },
     "execution_count": 4,
     "metadata": {},
     "output_type": "execute_result"
    }
   ],
   "source": [
    "# Write your code here\n",
    "url = \"http://api.exchangeratesapi.io/v1/latest?base=EUR&access_key=3ae8a41ae8b314fe2c76abee00969ef2\"  #Make sure to change ******* to your API key.\n",
    "response = requests.get(url)\n",
    "response.json()"
   ]
  },
  {
   "cell_type": "markdown",
   "metadata": {},
   "source": [
    "### Save as DataFrame\n",
    "\n",
    "<b> Question 2</b>  Using the data gathered turn it into a `pandas` dataframe. The dataframe should have the Currency as the index and `Rate` as their columns. Make sure to drop unnecessary columns.\n"
   ]
  },
  {
   "cell_type": "code",
   "execution_count": 5,
   "metadata": {},
   "outputs": [],
   "source": [
    "# Turn the data into a dataframe\n",
    "dataframe = pd.DataFrame(response.json())"
   ]
  },
  {
   "cell_type": "code",
   "execution_count": 6,
   "metadata": {},
   "outputs": [
    {
     "data": {
      "text/html": [
       "<div>\n",
       "<style scoped>\n",
       "    .dataframe tbody tr th:only-of-type {\n",
       "        vertical-align: middle;\n",
       "    }\n",
       "\n",
       "    .dataframe tbody tr th {\n",
       "        vertical-align: top;\n",
       "    }\n",
       "\n",
       "    .dataframe thead th {\n",
       "        text-align: right;\n",
       "    }\n",
       "</style>\n",
       "<table border=\"1\" class=\"dataframe\">\n",
       "  <thead>\n",
       "    <tr style=\"text-align: right;\">\n",
       "      <th></th>\n",
       "      <th>rates</th>\n",
       "    </tr>\n",
       "  </thead>\n",
       "  <tbody>\n",
       "    <tr>\n",
       "      <th>AED</th>\n",
       "      <td>3.681222</td>\n",
       "    </tr>\n",
       "    <tr>\n",
       "      <th>AFN</th>\n",
       "      <td>88.538902</td>\n",
       "    </tr>\n",
       "    <tr>\n",
       "      <th>ALL</th>\n",
       "      <td>116.449925</td>\n",
       "    </tr>\n",
       "    <tr>\n",
       "      <th>AMD</th>\n",
       "      <td>399.010488</td>\n",
       "    </tr>\n",
       "    <tr>\n",
       "      <th>ANG</th>\n",
       "      <td>1.794258</td>\n",
       "    </tr>\n",
       "    <tr>\n",
       "      <th>...</th>\n",
       "      <td>...</td>\n",
       "    </tr>\n",
       "    <tr>\n",
       "      <th>YER</th>\n",
       "      <td>250.835435</td>\n",
       "    </tr>\n",
       "    <tr>\n",
       "      <th>ZAR</th>\n",
       "      <td>17.818918</td>\n",
       "    </tr>\n",
       "    <tr>\n",
       "      <th>ZMK</th>\n",
       "      <td>9022.577511</td>\n",
       "    </tr>\n",
       "    <tr>\n",
       "      <th>ZMW</th>\n",
       "      <td>16.363904</td>\n",
       "    </tr>\n",
       "    <tr>\n",
       "      <th>ZWL</th>\n",
       "      <td>322.764341</td>\n",
       "    </tr>\n",
       "  </tbody>\n",
       "</table>\n",
       "<p>169 rows × 1 columns</p>\n",
       "</div>"
      ],
      "text/plain": [
       "           rates\n",
       "AED     3.681222\n",
       "AFN    88.538902\n",
       "ALL   116.449925\n",
       "AMD   399.010488\n",
       "ANG     1.794258\n",
       "..           ...\n",
       "YER   250.835435\n",
       "ZAR    17.818918\n",
       "ZMK  9022.577511\n",
       "ZMW    16.363904\n",
       "ZWL   322.764341\n",
       "\n",
       "[169 rows x 1 columns]"
      ]
     },
     "execution_count": 6,
     "metadata": {},
     "output_type": "execute_result"
    }
   ],
   "source": [
    "# Drop unnescessary columns\n",
    "dataframe.drop(columns=[\"success\", \"timestamp\", \"base\", \"date\"], inplace=True)\n",
    "dataframe"
   ]
  },
  {
   "cell_type": "markdown",
   "metadata": {},
   "source": [
    "### Load the Data\n",
    "\n",
    "Using the dataframe save it as a CSV names `exchange_rates_1.csv`.\n"
   ]
  },
  {
   "cell_type": "code",
   "execution_count": 7,
   "metadata": {},
   "outputs": [],
   "source": [
    "# Save the Dataframe\n",
    "dataframe.to_csv(\"exchange_rates_1.csv\")"
   ]
  },
  {
   "cell_type": "markdown",
   "metadata": {},
   "source": [
    "Your CSV should be in this format with more currencies\n",
    "\n",
    "|     | Rates      |\n",
    "| --- | ---------- |\n",
    "| AED | 4.398618   |\n",
    "| AFN | 92.917693  |\n",
    "| ALL | 123.099093 |\n",
    "| AMD | 621.935674 |\n",
    "| ANG | 2.149648   |\n"
   ]
  },
  {
   "cell_type": "markdown",
   "metadata": {},
   "source": [
    "## Authors\n"
   ]
  },
  {
   "cell_type": "markdown",
   "metadata": {},
   "source": [
    "Ramesh Sannareddy, Joseph Santarcangelo and Azim Hirjani\n"
   ]
  },
  {
   "cell_type": "markdown",
   "metadata": {},
   "source": [
    "### Other Contributors\n"
   ]
  },
  {
   "cell_type": "markdown",
   "metadata": {},
   "source": [
    "Rav Ahuja\n"
   ]
  },
  {
   "cell_type": "markdown",
   "metadata": {},
   "source": [
    "## Change Log\n"
   ]
  },
  {
   "cell_type": "markdown",
   "metadata": {},
   "source": [
    "| Date (YYYY-MM-DD) | Version | Changed By        | Change Description                              |\n",
    "| ----------------- | ------- | ----------------- | ----------------------------------------------- |\n",
    "| 2022-05-06        | 0.3     | Malika            | Updated instructions to get the API and the url |\n",
    "| 2021-04-15        | 0.2     | Malika            | Updated the lab from USD to EUR                 |\n",
    "| 2020-11-25        | 0.1     | Ramesh Sannareddy | Created initial version of the lab              |\n"
   ]
  },
  {
   "cell_type": "markdown",
   "metadata": {},
   "source": [
    "Copyright © 2020 IBM Corporation. This notebook and its source code are released under the terms of the [MIT License](https://cognitiveclass.ai/mit-license?utm_medium=Exinfluencer&utm_source=Exinfluencer&utm_content=000026UJ&utm_term=10006555&utm_id=NA-SkillsNetwork-Channel-SkillsNetworkCoursesIBMDeveloperSkillsNetworkPY0221ENSkillsNetwork23455645-2022-01-01&cm_mmc=Email_Newsletter-\\_-Developer_Ed%2BTech-\\_-WW_WW-\\_-SkillsNetwork-Courses-IBM-DA0321EN-SkillsNetwork-21426264&cm_mmca1=000026UJ&cm_mmca2=10006555&cm_mmca3=M12345678&cvosrc=email.Newsletter.M12345678&cvo_campaign=000026UJ).\n"
   ]
  }
 ],
 "metadata": {
  "kernelspec": {
   "display_name": "Python",
   "language": "python",
   "name": "conda-env-python-py"
  },
  "language_info": {
   "codemirror_mode": {
    "name": "ipython",
    "version": 3
   },
   "file_extension": ".py",
   "mimetype": "text/x-python",
   "name": "python",
   "nbconvert_exporter": "python",
   "pygments_lexer": "ipython3",
   "version": "3.7.12"
  }
 },
 "nbformat": 4,
 "nbformat_minor": 4
}
